{
 "cells": [
  {
   "cell_type": "code",
   "execution_count": 106,
   "metadata": {},
   "outputs": [],
   "source": [
    "# The Blartle campaign received four donations:\n",
    "# One of $45\n",
    "# One of $78\n",
    "# One of $230\n",
    "# One of $2\n",
    "# Save these in a variable named 'donations'\n",
    "donations = [45, 78, 230, 2]\n"
   ]
  },
  {
   "cell_type": "code",
   "execution_count": 107,
   "metadata": {},
   "outputs": [
    {
     "data": {
      "text/plain": [
       "4"
      ]
     },
     "execution_count": 107,
     "metadata": {},
     "output_type": "execute_result"
    }
   ],
   "source": [
    "# I forgot how many donations it was. Can you count them?\n",
    "len(donations)\n"
   ]
  },
  {
   "cell_type": "code",
   "execution_count": 108,
   "metadata": {},
   "outputs": [
    {
     "name": "stdout",
     "output_type": "stream",
     "text": [
      "355 $\n"
     ]
    }
   ],
   "source": [
    "# I'm the campaign manager for the Blartle campaign! How\n",
    "# much money did we raise in total?\n",
    "\n",
    "print(sum(donations),\"$\")\n"
   ]
  },
  {
   "cell_type": "code",
   "execution_count": 109,
   "metadata": {},
   "outputs": [
    {
     "name": "stdout",
     "output_type": "stream",
     "text": [
      "The largest donation was $ 230\n",
      "The minimum donation was $ 2\n"
     ]
    }
   ],
   "source": [
    "# What were the largest and smallest donations?\n",
    "# Print the sentences,\n",
    "# \"The largest donation was ____\"\n",
    "# \"The minimum donation was ____\"\n",
    "\n",
    "print(\"The largest donation was\", \"$\", max(donations))\n",
    "print(\"The minimum donation was\", \"$\", min(donations))"
   ]
  },
  {
   "cell_type": "code",
   "execution_count": 110,
   "metadata": {},
   "outputs": [],
   "source": [
    "# Why is it, for example, max(donations) and not donations.max()?\n",
    "# What's the difference between the two?\n",
    "\n"
   ]
  },
  {
   "cell_type": "code",
   "execution_count": 111,
   "metadata": {},
   "outputs": [
    {
     "name": "stdout",
     "output_type": "stream",
     "text": [
      "45\n"
     ]
    }
   ],
   "source": [
    "# Print out ONLY the first donation\n",
    "print(donations[0])"
   ]
  },
  {
   "cell_type": "code",
   "execution_count": 112,
   "metadata": {},
   "outputs": [],
   "source": [
    "# When do we use [], when do we use (), when do we use {}?\n",
    "# Why do we sometimes use some, and sometimes use others?\n",
    "\n",
    "#() applies where functions like print are involved\n",
    "#[] is for lists and indexing the list\n",
    "#{} are easier to use when printing statements, they are better to use than print() especially where integers are involved"
   ]
  },
  {
   "cell_type": "code",
   "execution_count": 113,
   "metadata": {},
   "outputs": [
    {
     "name": "stdout",
     "output_type": "stream",
     "text": [
      "Thank you for your donation of $ 45\n",
      "Thank you for your donation of $ 78\n",
      "Thank you for your donation of $ 230\n",
      "Thank you for your donation of $ 2\n"
     ]
    }
   ],
   "source": [
    "# We need to write thank-you letters! Print out the\n",
    "# sentences \"Thank you for your donation of $____\"\n",
    "# for each of the donations\n",
    "\n",
    "for donation in donations:\n",
    "    print(\"Thank you for your donation of\", \"$\", donation)\n"
   ]
  },
  {
   "cell_type": "code",
   "execution_count": 114,
   "metadata": {},
   "outputs": [
    {
     "name": "stdout",
     "output_type": "stream",
     "text": [
      "Thank you for your donation of $ 45 ,your donation was below the average.\n",
      "Thank you for your donation of $ 78 ,your donation was below the average.\n",
      "Thank you for your donation of $ 230 ,your donation was above the average.\n",
      "Thank you for your donation of $ 2 ,your donation was below the average.\n"
     ]
    }
   ],
   "source": [
    "# I'm the campaign manager again, and I want to make MORE MONEY.\n",
    "# In each of the thank-you letters, also print whether \n",
    "# it was above or below the average donation\n",
    "# you probably want to save the average donation in \n",
    "# a variable called 'average'\n",
    "\n",
    "average = (sum(donations) / len(donations))\n",
    "for donation in donations:\n",
    "    if donation > average:\n",
    "        print(\"Thank you for your donation of\", \"$\", donation,\",\"\"your donation was above the average.\")\n",
    "    else: \n",
    "        print(\"Thank you for your donation of\", \"$\", donation,\",\" \"your donation was below the average.\")\n",
    "        "
   ]
  },
  {
   "cell_type": "code",
   "execution_count": null,
   "metadata": {},
   "outputs": [],
   "source": []
  },
  {
   "cell_type": "code",
   "execution_count": 121,
   "metadata": {},
   "outputs": [
    {
     "name": "stdout",
     "output_type": "stream",
     "text": [
      "Thank you for your donation of $ 45 your donation was 43.75 above the average.\n",
      "Thank you for your donation of $ 78 your donation was 10.75 above the average.\n",
      "Thank you for your donation of $ 230 your donation was 141.25 above the average.\n",
      "Thank you for your donation of $ 2 your donation was 86.75 above the average.\n",
      "Thank you for your donation of $ 2 your donation was 86.75 below the average.\n"
     ]
    }
   ],
   "source": [
    "# I still want more money, but we need to be more detailed if we\n",
    "# are going to get it. Print out the thank-you letters one more\n",
    "# time, but this time say something like \"it was $4 above the average\n",
    "# donation\" or \"It was $30 below the average donation\"\n",
    "\n",
    "for donation in donations:\n",
    "    difference = (abs(donation - average))\n",
    "      print(\"Thank you for your donation of\", \"$\", donation, \"your donation was\", difference,\"above the average.\")\n",
    "else: \n",
    "    print(\"Thank you for your donation of\", \"$\", donation,\"your donation was\", difference,\"below the average.\")\n",
    "        "
   ]
  }
 ],
 "metadata": {
  "kernelspec": {
   "display_name": "Python 3",
   "language": "python",
   "name": "python3"
  },
  "language_info": {
   "codemirror_mode": {
    "name": "ipython",
    "version": 3
   },
   "file_extension": ".py",
   "mimetype": "text/x-python",
   "name": "python",
   "nbconvert_exporter": "python",
   "pygments_lexer": "ipython3",
   "version": "3.8.6"
  }
 },
 "nbformat": 4,
 "nbformat_minor": 4
}
